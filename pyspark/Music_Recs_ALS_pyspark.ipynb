{
  "nbformat": 4,
  "nbformat_minor": 0,
  "metadata": {
    "colab": {
      "name": "Music_Recs.ipynb",
      "provenance": [],
      "include_colab_link": true
    },
    "kernelspec": {
      "display_name": "Python 3",
      "name": "python3"
    }
  },
  "cells": [
    {
      "cell_type": "markdown",
      "metadata": {
        "id": "view-in-github",
        "colab_type": "text"
      },
      "source": [
        "<a href=\"https://colab.research.google.com/github/ciciwu/recsys_playground/blob/main/pyspark/Music_Recs_ALS_pyspark.ipynb\" target=\"_parent\"><img src=\"https://colab.research.google.com/assets/colab-badge.svg\" alt=\"Open In Colab\"/></a>"
      ]
    },
    {
      "cell_type": "markdown",
      "metadata": {
        "id": "uixRc0XtrHuj"
      },
      "source": [
        "# **WELCOME TO THIS NOTEBOOK**"
      ]
    },
    {
      "cell_type": "code",
      "source": [
        "from google.colab import drive\n",
        "drive.mount('/content/drive')"
      ],
      "metadata": {
        "colab": {
          "base_uri": "https://localhost:8080/"
        },
        "id": "h5JHtaRlpGiE",
        "outputId": "3869d439-c4a8-4e28-e339-d2ea74c245ac"
      },
      "execution_count": 1,
      "outputs": [
        {
          "output_type": "stream",
          "name": "stdout",
          "text": [
            "Mounted at /content/drive\n"
          ]
        }
      ]
    },
    {
      "cell_type": "markdown",
      "metadata": {
        "id": "hMZ64UxxrMvL"
      },
      "source": [
        "Let's install pyspark"
      ]
    },
    {
      "cell_type": "code",
      "metadata": {
        "id": "Dal3Np2Imn8u",
        "colab": {
          "base_uri": "https://localhost:8080/"
        },
        "outputId": "d851679d-06d0-48e2-b751-eac1f454f760"
      },
      "source": [
        "!pip install pyspark"
      ],
      "execution_count": 2,
      "outputs": [
        {
          "output_type": "stream",
          "name": "stdout",
          "text": [
            "Collecting pyspark\n",
            "  Downloading pyspark-3.4.1.tar.gz (310.8 MB)\n",
            "\u001b[2K     \u001b[90m━━━━━━━━━━━━━━━━━━━━━━━━━━━━━━━━━━━━━━━\u001b[0m \u001b[32m310.8/310.8 MB\u001b[0m \u001b[31m4.4 MB/s\u001b[0m eta \u001b[36m0:00:00\u001b[0m\n",
            "\u001b[?25h  Preparing metadata (setup.py) ... \u001b[?25l\u001b[?25hdone\n",
            "Requirement already satisfied: py4j==0.10.9.7 in /usr/local/lib/python3.10/dist-packages (from pyspark) (0.10.9.7)\n",
            "Building wheels for collected packages: pyspark\n",
            "  Building wheel for pyspark (setup.py) ... \u001b[?25l\u001b[?25hdone\n",
            "  Created wheel for pyspark: filename=pyspark-3.4.1-py2.py3-none-any.whl size=311285388 sha256=9db7a3dabab9a07b6909550dd12f4c93d9ffa297de16e58b82cb9e4f35e9baf7\n",
            "  Stored in directory: /root/.cache/pip/wheels/0d/77/a3/ff2f74cc9ab41f8f594dabf0579c2a7c6de920d584206e0834\n",
            "Successfully built pyspark\n",
            "Installing collected packages: pyspark\n",
            "Successfully installed pyspark-3.4.1\n"
          ]
        }
      ]
    },
    {
      "cell_type": "markdown",
      "metadata": {
        "id": "eK9D-CNgru_s"
      },
      "source": [
        "Importing the modules"
      ]
    },
    {
      "cell_type": "code",
      "metadata": {
        "id": "Z_cmzia9nA1W"
      },
      "source": [
        "from pyspark.sql import SparkSession\n",
        "from pyspark.sql.functions import count, desc , col, max\n",
        "from pyspark.ml.feature import  StringIndexer\n",
        "from pyspark.ml import Pipeline\n",
        "from pyspark.ml.recommendation import ALS\n",
        "from pyspark.ml.tuning import TrainValidationSplit, ParamGridBuilder"
      ],
      "execution_count": 3,
      "outputs": []
    },
    {
      "cell_type": "markdown",
      "metadata": {
        "id": "pjM5P6b0rVpH"
      },
      "source": [
        "Creating the spark session\n"
      ]
    },
    {
      "cell_type": "code",
      "metadata": {
        "id": "gvSzI0zMn4Hk"
      },
      "source": [
        "spark = SparkSession.builder.appName(\"lastfm\").getOrCreate()"
      ],
      "execution_count": 4,
      "outputs": []
    },
    {
      "cell_type": "markdown",
      "metadata": {
        "id": "KnyYdMVmnkp5"
      },
      "source": [
        "# Loading the dataset"
      ]
    },
    {
      "cell_type": "code",
      "metadata": {
        "id": "PywJeVgDngVd",
        "colab": {
          "base_uri": "https://localhost:8080/"
        },
        "outputId": "633e8e65-1e67-494f-ab86-ec033576cb76"
      },
      "source": [
        "file_path = '/content/drive/MyDrive/content/music_rec/listenings.csv'\n",
        "df_listenings = spark.read.format('csv').option('header',True).option('inferSchema',True).load(file_path) #data frame, header will infer column types from csv\n",
        "df_listenings.show()"
      ],
      "execution_count": 5,
      "outputs": [
        {
          "output_type": "stream",
          "name": "stdout",
          "text": [
            "+-----------+-------------+--------------------+---------------+--------------------+\n",
            "|    user_id|         date|               track|         artist|               album|\n",
            "+-----------+-------------+--------------------+---------------+--------------------+\n",
            "|000Silenced|1299680100000|           Price Tag|       Jessie J|         Who You Are|\n",
            "|000Silenced|1299679920000|Price Tag (Acoust...|       Jessie J|           Price Tag|\n",
            "|000Silenced|1299679440000|Be Mine! (Ballad ...|          Robyn|            Be Mine!|\n",
            "|000Silenced|1299679200000|            Acapella|          Kelis|            Acapella|\n",
            "|000Silenced|1299675660000|   I'm Not Invisible|      The Tease|   I'm Not Invisible|\n",
            "|000Silenced|1297511400000|Bounce (Feat NORE...|       MSTRKRFT|         Fist of God|\n",
            "|000Silenced|1294498440000|Don't Stop The Mu...|        Rihanna|Addicted 2 Bassli...|\n",
            "|000Silenced|1292438340000|               ObZen|      Meshuggah|               ObZen|\n",
            "|000Silenced|1292437740000|   Yama's Messengers|         Gojira|The Way of All Flesh|\n",
            "|000Silenced|1292436360000|On the Brink of E...|   Napalm Death|Time Waits For No...|\n",
            "|000Silenced|1292436360000|On the Brink of E...|   Napalm Death|Time Waits For No...|\n",
            "|000Silenced|1292435940000|        In Deference|   Napalm Death|      Smear Campaign|\n",
            "|000Silenced|1292434920000|      Post(?)organic|    Decapitated|Organic Hallucinosis|\n",
            "|000Silenced|1292434560000|        Mind Feeders|   Dom & Roland| No Strings Attached|\n",
            "|000Silenced|1292434320000|Necrosadistic War...|Cannibal Corpse|                Kill|\n",
            "|000Silenced|1292365560000|     Dance All Night|   Dom & Roland|          Chronology|\n",
            "|000Silenced|1292365260000|          Late Night|   Dom & Roland|          Chronology|\n",
            "|000Silenced|1292365020000|          Freak Seen|   Dom & Roland|          Chronology|\n",
            "|000Silenced|1292364720000|Paradrenasite (Hi...|   Dom & Roland|          Chronology|\n",
            "|000Silenced|1292364300000|               Rhino|   Dom & Roland|          Chronology|\n",
            "+-----------+-------------+--------------------+---------------+--------------------+\n",
            "only showing top 20 rows\n",
            "\n"
          ]
        }
      ]
    },
    {
      "cell_type": "markdown",
      "metadata": {
        "id": "YUHBP0yjoJvc"
      },
      "source": [
        "\n",
        "# Cleaning tables"
      ]
    },
    {
      "cell_type": "code",
      "metadata": {
        "id": "N8luDo3HndTb",
        "colab": {
          "base_uri": "https://localhost:8080/"
        },
        "outputId": "5bbb8e5e-5a94-4ba7-af7e-834ac53779a5"
      },
      "source": [
        "df_listenings = df_listenings.drop('date')#drop date and time col from data frame\n",
        "df_listenings.show() #has information about each user, which track, artist and album they listened to"
      ],
      "execution_count": 6,
      "outputs": [
        {
          "output_type": "stream",
          "name": "stdout",
          "text": [
            "+-----------+--------------------+---------------+--------------------+\n",
            "|    user_id|               track|         artist|               album|\n",
            "+-----------+--------------------+---------------+--------------------+\n",
            "|000Silenced|           Price Tag|       Jessie J|         Who You Are|\n",
            "|000Silenced|Price Tag (Acoust...|       Jessie J|           Price Tag|\n",
            "|000Silenced|Be Mine! (Ballad ...|          Robyn|            Be Mine!|\n",
            "|000Silenced|            Acapella|          Kelis|            Acapella|\n",
            "|000Silenced|   I'm Not Invisible|      The Tease|   I'm Not Invisible|\n",
            "|000Silenced|Bounce (Feat NORE...|       MSTRKRFT|         Fist of God|\n",
            "|000Silenced|Don't Stop The Mu...|        Rihanna|Addicted 2 Bassli...|\n",
            "|000Silenced|               ObZen|      Meshuggah|               ObZen|\n",
            "|000Silenced|   Yama's Messengers|         Gojira|The Way of All Flesh|\n",
            "|000Silenced|On the Brink of E...|   Napalm Death|Time Waits For No...|\n",
            "|000Silenced|On the Brink of E...|   Napalm Death|Time Waits For No...|\n",
            "|000Silenced|        In Deference|   Napalm Death|      Smear Campaign|\n",
            "|000Silenced|      Post(?)organic|    Decapitated|Organic Hallucinosis|\n",
            "|000Silenced|        Mind Feeders|   Dom & Roland| No Strings Attached|\n",
            "|000Silenced|Necrosadistic War...|Cannibal Corpse|                Kill|\n",
            "|000Silenced|     Dance All Night|   Dom & Roland|          Chronology|\n",
            "|000Silenced|          Late Night|   Dom & Roland|          Chronology|\n",
            "|000Silenced|          Freak Seen|   Dom & Roland|          Chronology|\n",
            "|000Silenced|Paradrenasite (Hi...|   Dom & Roland|          Chronology|\n",
            "|000Silenced|               Rhino|   Dom & Roland|          Chronology|\n",
            "+-----------+--------------------+---------------+--------------------+\n",
            "only showing top 20 rows\n",
            "\n"
          ]
        }
      ]
    },
    {
      "cell_type": "code",
      "metadata": {
        "id": "5rDadwmpowII",
        "colab": {
          "base_uri": "https://localhost:8080/"
        },
        "outputId": "48ac5c96-83d8-4259-f194-81ec4f19676e"
      },
      "source": [
        "df_listenings = df_listenings.na.drop() # removes null values in the row\n",
        "df_listenings.show()"
      ],
      "execution_count": 7,
      "outputs": [
        {
          "output_type": "stream",
          "name": "stdout",
          "text": [
            "+-----------+--------------------+---------------+--------------------+\n",
            "|    user_id|               track|         artist|               album|\n",
            "+-----------+--------------------+---------------+--------------------+\n",
            "|000Silenced|           Price Tag|       Jessie J|         Who You Are|\n",
            "|000Silenced|Price Tag (Acoust...|       Jessie J|           Price Tag|\n",
            "|000Silenced|Be Mine! (Ballad ...|          Robyn|            Be Mine!|\n",
            "|000Silenced|            Acapella|          Kelis|            Acapella|\n",
            "|000Silenced|   I'm Not Invisible|      The Tease|   I'm Not Invisible|\n",
            "|000Silenced|Bounce (Feat NORE...|       MSTRKRFT|         Fist of God|\n",
            "|000Silenced|Don't Stop The Mu...|        Rihanna|Addicted 2 Bassli...|\n",
            "|000Silenced|               ObZen|      Meshuggah|               ObZen|\n",
            "|000Silenced|   Yama's Messengers|         Gojira|The Way of All Flesh|\n",
            "|000Silenced|On the Brink of E...|   Napalm Death|Time Waits For No...|\n",
            "|000Silenced|On the Brink of E...|   Napalm Death|Time Waits For No...|\n",
            "|000Silenced|        In Deference|   Napalm Death|      Smear Campaign|\n",
            "|000Silenced|      Post(?)organic|    Decapitated|Organic Hallucinosis|\n",
            "|000Silenced|        Mind Feeders|   Dom & Roland| No Strings Attached|\n",
            "|000Silenced|Necrosadistic War...|Cannibal Corpse|                Kill|\n",
            "|000Silenced|     Dance All Night|   Dom & Roland|          Chronology|\n",
            "|000Silenced|          Late Night|   Dom & Roland|          Chronology|\n",
            "|000Silenced|          Freak Seen|   Dom & Roland|          Chronology|\n",
            "|000Silenced|Paradrenasite (Hi...|   Dom & Roland|          Chronology|\n",
            "|000Silenced|               Rhino|   Dom & Roland|          Chronology|\n",
            "+-----------+--------------------+---------------+--------------------+\n",
            "only showing top 20 rows\n",
            "\n"
          ]
        }
      ]
    },
    {
      "cell_type": "code",
      "metadata": {
        "id": "UZr0ZxOVIYr9",
        "outputId": "7fb66ab0-582a-43fc-f96e-b9997963c388",
        "colab": {
          "base_uri": "https://localhost:8080/"
        }
      },
      "source": [
        "rows = df_listenings.count()\n",
        "cols = len(df_listenings.columns)\n",
        "print(rows,cols)"
      ],
      "execution_count": 8,
      "outputs": [
        {
          "output_type": "stream",
          "name": "stdout",
          "text": [
            "13758905 4\n"
          ]
        }
      ]
    },
    {
      "cell_type": "markdown",
      "metadata": {
        "id": "cyf1XITGpMWV"
      },
      "source": [
        "\n",
        "# Let's Perform some aggregation\n",
        "to see how many times each user has listened to specific track\n"
      ]
    },
    {
      "cell_type": "code",
      "metadata": {
        "id": "PeH7vYKEoyWa",
        "colab": {
          "base_uri": "https://localhost:8080/"
        },
        "outputId": "2beef38a-28f3-4b1c-f317-b41554fd1ab9"
      },
      "source": [
        "#in order to make a model, we need to know how many times a user has listened to each song\n",
        "df_listenings_agg = df_listenings.select('user_id', 'track').groupby('user_id', 'track').agg(count('*').alias('count')).orderBy('user_id')\n",
        "df_listenings_agg.show()"
      ],
      "execution_count": 9,
      "outputs": [
        {
          "output_type": "stream",
          "name": "stdout",
          "text": [
            "+-------+--------------------+-----+\n",
            "|user_id|               track|count|\n",
            "+-------+--------------------+-----+\n",
            "| --Seph| White Winter Hymnal|    3|\n",
            "| --Seph|         The Funeral|    1|\n",
            "| --Seph|Hope There's Someone|    1|\n",
            "| --Seph|         The Painter|    1|\n",
            "| --Seph|          Je te veux|    1|\n",
            "| --Seph|            War Pigs|    1|\n",
            "| --Seph|                 F12|    1|\n",
            "| --Seph|                Team|    1|\n",
            "| --Seph|          Nightmares|    1|\n",
            "| --Seph|               Radio|    1|\n",
            "| --Seph|   All I Want Is You|    1|\n",
            "| --Seph|    Little by Little|    2|\n",
            "| --Seph|        After Nature|    1|\n",
            "| --Seph|In the Hall of th...|    1|\n",
            "| --Seph|   Hey There Delilah|    1|\n",
            "| --Seph|   Let's Call It Off|    1|\n",
            "| --Seph|               Leloo|    1|\n",
            "| --Seph|             Pack Up|    1|\n",
            "| --Seph|           Introitus|    1|\n",
            "| --Seph|        The Leanover|    1|\n",
            "+-------+--------------------+-----+\n",
            "only showing top 20 rows\n",
            "\n"
          ]
        }
      ]
    },
    {
      "cell_type": "code",
      "metadata": {
        "id": "RhVz-SvapIyr",
        "outputId": "7a72e944-d136-4bd9-f6ff-020782a74cc8",
        "colab": {
          "base_uri": "https://localhost:8080/"
        }
      },
      "source": [
        "row = df_listenings_agg.count()\n",
        "col = len(df_listenings_agg.columns)\n",
        "print(row,col)"
      ],
      "execution_count": 10,
      "outputs": [
        {
          "output_type": "stream",
          "name": "stdout",
          "text": [
            "9930128 3\n"
          ]
        }
      ]
    },
    {
      "cell_type": "code",
      "source": [
        "#we want to decrement our row size, its almost 10 million, lets reduce it inorder to process our data much faster\n",
        "df_listenings_agg = df_listenings_agg.limit(20000)\n"
      ],
      "metadata": {
        "id": "GNJjYNL1NFL9"
      },
      "execution_count": 11,
      "outputs": []
    },
    {
      "cell_type": "markdown",
      "metadata": {
        "id": "vuebvg7UqzsO"
      },
      "source": [
        "# Let's convert the user id and track columns into unique integers\n",
        "\n",
        "\n"
      ]
    },
    {
      "cell_type": "code",
      "metadata": {
        "id": "F9RSpj3DN6aX",
        "colab": {
          "base_uri": "https://localhost:8080/"
        },
        "outputId": "75d6051e-ce2b-477e-c5e1-58713653aba8"
      },
      "source": [
        "#We want to use StringIndexer to convert userID and track to unique, integer values\n",
        "#StringIndexer encodes a string column of labels to a column of label indices\n",
        "old_strindexer = [StringIndexer(inputCol = col, outputCol = col + '_index').fit(df_listenings_agg) for col in list(set(df_listenings_agg.columns)- set(['count']))]\n",
        "indexer = [curr_strindexer.setHandleInvalid(\"keep\") for curr_strindexer in old_strindexer]\n",
        "pipeline = Pipeline(stages = indexer)\n",
        "#the dataframe will be called data\n",
        "#Transformers convert one dataframe into another either by updating the current values of a particular column (like converting categorical columns to numeric) or mapping it to some other values by using a defined logic.\n",
        "#An Estimator implements the fit() method on a dataframe and produces a model.\n",
        "data = pipeline.fit(df_listenings_agg).transform(df_listenings_agg)\n",
        "data.show()"
      ],
      "execution_count": 12,
      "outputs": [
        {
          "output_type": "stream",
          "name": "stdout",
          "text": [
            "+-------+--------------------+-----+-----------+-------------+\n",
            "|user_id|               track|count|track_index|user_id_index|\n",
            "+-------+--------------------+-----+-----------+-------------+\n",
            "| --Seph|          Nightmares|    1|    10600.0|         69.0|\n",
            "| --Seph|Virus (Luke Fair ...|    1|    15893.0|         69.0|\n",
            "| --Seph|Airplanes [feat H...|    1|      521.0|         69.0|\n",
            "| --Seph|Belina (Original ...|    1|     3280.0|         69.0|\n",
            "| --Seph|              Monday|    1|      334.0|         69.0|\n",
            "| --Seph|Hungarian Dance No 5|    1|     7555.0|         69.0|\n",
            "| --Seph|       Life On Mars?|    1|     1164.0|         69.0|\n",
            "| --Seph|  California Waiting|    1|      195.0|         69.0|\n",
            "| --Seph|       Phantom Pt II|    1|     1378.0|         69.0|\n",
            "| --Seph|   Summa for Strings|    1|    13737.0|         69.0|\n",
            "| --Seph|      Hour for magic|    2|     7492.0|         69.0|\n",
            "| --Seph|Hungarian Rhapsod...|    1|     7556.0|         69.0|\n",
            "| --Seph|     The Way We Were|    1|    14958.0|         69.0|\n",
            "| --Seph| Air on the G String|    1|     2456.0|         69.0|\n",
            "| --Seph|Vestido Estampado...|    1|    15847.0|         69.0|\n",
            "| --Seph|        Window Blues|    1|     1841.0|         69.0|\n",
            "| --Seph| White Winter Hymnal|    3|       59.0|         69.0|\n",
            "| --Seph|         The Embrace|    1|    14386.0|         69.0|\n",
            "| --Seph|          Paris 2004|    7|    11311.0|         69.0|\n",
            "| --Seph|Chelsea Hotel - L...|    1|     4183.0|         69.0|\n",
            "+-------+--------------------+-----+-----------+-------------+\n",
            "only showing top 20 rows\n",
            "\n"
          ]
        }
      ]
    },
    {
      "cell_type": "code",
      "metadata": {
        "id": "efL-hiR-q-AO"
      },
      "source": [
        "data = data.select('user_id_index', 'track_index', 'count').orderBy('user_id_index')\n",
        "\n"
      ],
      "execution_count": 13,
      "outputs": []
    },
    {
      "cell_type": "code",
      "metadata": {
        "id": "OfKtj2ojrKae",
        "colab": {
          "base_uri": "https://localhost:8080/"
        },
        "outputId": "68e84659-dc35-44a8-e6d6-0deff37c7c57"
      },
      "source": [
        "data.show()"
      ],
      "execution_count": null,
      "outputs": [
        {
          "output_type": "stream",
          "name": "stdout",
          "text": [
            "+-------------+-----------+-----+\n",
            "|user_id_index|track_index|count|\n",
            "+-------------+-----------+-----+\n",
            "|          0.0|    10628.0|    1|\n",
            "|          0.0|     3338.0|    1|\n",
            "|          0.0|    12168.0|    1|\n",
            "|          0.0|    11626.0|    2|\n",
            "|          0.0|    10094.0|    4|\n",
            "|          0.0|      427.0|    1|\n",
            "|          0.0|    16878.0|    1|\n",
            "|          0.0|    11722.0|    1|\n",
            "|          0.0|    15074.0|    1|\n",
            "|          0.0|     1359.0|    1|\n",
            "|          0.0|     5874.0|    1|\n",
            "|          0.0|    11184.0|    1|\n",
            "|          0.0|     2372.0|    2|\n",
            "|          0.0|    14316.0|    1|\n",
            "|          0.0|     5346.0|    1|\n",
            "|          0.0|    11194.0|    1|\n",
            "|          0.0|     2241.0|    1|\n",
            "|          0.0|     2864.0|    1|\n",
            "|          0.0|     2663.0|    4|\n",
            "|          0.0|     6064.0|    1|\n",
            "+-------------+-----------+-----+\n",
            "only showing top 20 rows\n",
            "\n"
          ]
        }
      ]
    },
    {
      "cell_type": "markdown",
      "metadata": {
        "id": "IEwviAxXsHwN"
      },
      "source": [
        "# Train and Test data"
      ]
    },
    {
      "cell_type": "code",
      "metadata": {
        "id": "DRgu2p-PsYUw"
      },
      "source": [
        "(training, test) = data.randomSplit([0.5,0.5])"
      ],
      "execution_count": 14,
      "outputs": []
    },
    {
      "cell_type": "markdown",
      "metadata": {
        "id": "M46wV6Gusdi5"
      },
      "source": [
        "# Let's Create our Model"
      ]
    },
    {
      "cell_type": "code",
      "metadata": {
        "id": "bwPk25M3sfRu",
        "colab": {
          "base_uri": "https://localhost:8080/"
        },
        "outputId": "837f5e7f-2a1c-4108-fecb-cb3e5585aae6"
      },
      "source": [
        "USERID = \"user_id_index\"\n",
        "TRACK = \"track_index\"\n",
        "COUNT = \"count\"\n",
        "\n",
        "als = ALS(maxIter = 5, regParam = 0.01, userCol = USERID, itemCol = TRACK, ratingCol = COUNT)\n",
        "# Alternating Least Squares algorithm\n",
        "print(als)\n",
        "model = als.fit(training)\n",
        "\n",
        "predictions = model.transform(test)"
      ],
      "execution_count": 15,
      "outputs": [
        {
          "output_type": "stream",
          "name": "stdout",
          "text": [
            "ALS_f6975171dcec\n"
          ]
        }
      ]
    },
    {
      "cell_type": "code",
      "source": [
        "predictions.show(10)"
      ],
      "metadata": {
        "id": "cI1D6YmhpElU",
        "outputId": "d8c33f14-bd90-4dc7-bcfd-e947b5b64ac0",
        "colab": {
          "base_uri": "https://localhost:8080/"
        }
      },
      "execution_count": 17,
      "outputs": [
        {
          "output_type": "stream",
          "name": "stdout",
          "text": [
            "+-------------+-----------+-----+-------------+\n",
            "|user_id_index|track_index|count|   prediction|\n",
            "+-------------+-----------+-----+-------------+\n",
            "|          0.0|        1.0|    1|    1.9426332|\n",
            "|          0.0|       34.0|    3|    2.8877683|\n",
            "|          0.0|       64.0|    1|   -1.0375698|\n",
            "|          0.0|       72.0|    1|  -0.23220444|\n",
            "|          0.0|       90.0|    1|-0.0019499063|\n",
            "|          0.0|      114.0|    1|          NaN|\n",
            "|          0.0|      157.0|    1| -0.008078817|\n",
            "|          0.0|      352.0|    1|          NaN|\n",
            "|          0.0|      382.0|    1|   0.07665002|\n",
            "|          0.0|      385.0|    1|          NaN|\n",
            "+-------------+-----------+-----+-------------+\n",
            "only showing top 10 rows\n",
            "\n"
          ]
        }
      ]
    },
    {
      "cell_type": "code",
      "source": [
        "predictions=predictions.na.drop()"
      ],
      "metadata": {
        "id": "qFWLdqobr85y"
      },
      "execution_count": 27,
      "outputs": []
    },
    {
      "cell_type": "code",
      "source": [
        "from pyspark.ml.evaluation import RegressionEvaluator\n",
        "\n",
        "evaluator = RegressionEvaluator(metricName=\"rmse\", labelCol=\"count\",\n",
        "predictionCol=\"prediction\")\n",
        "\n",
        "# Evaluate the \"test_predictions\" dataframe\n",
        "RMSE = evaluator.evaluate(predictions)\n",
        "\n",
        "# Print the RMSE\n",
        "print (RMSE)"
      ],
      "metadata": {
        "id": "qaeVWdDnrFkN",
        "outputId": "f2577638-530b-4cfd-990c-ea3797eca479",
        "colab": {
          "base_uri": "https://localhost:8080/"
        }
      },
      "execution_count": 28,
      "outputs": [
        {
          "output_type": "stream",
          "name": "stdout",
          "text": [
            "2.6313080814199052\n"
          ]
        }
      ]
    },
    {
      "cell_type": "markdown",
      "metadata": {
        "id": "lqBkLowzsoj8"
      },
      "source": [
        "\n",
        "# Generate top 10 Track recommendations for each user"
      ]
    },
    {
      "cell_type": "code",
      "metadata": {
        "id": "00mtv7XUsZGg"
      },
      "source": [
        "recs = model.recommendForAllUsers(10)"
      ],
      "execution_count": null,
      "outputs": []
    },
    {
      "cell_type": "code",
      "metadata": {
        "id": "_EQnSUh3ncar",
        "colab": {
          "base_uri": "https://localhost:8080/"
        },
        "outputId": "93daaf09-aa6a-4231-d41c-5ca38a08c018"
      },
      "source": [
        "recs.show()"
      ],
      "execution_count": null,
      "outputs": [
        {
          "output_type": "stream",
          "name": "stdout",
          "text": [
            "+-------------+--------------------+\n",
            "|user_id_index|     recommendations|\n",
            "+-------------+--------------------+\n",
            "|            0|[{4460, 17.55068}...|\n",
            "|            1|[{4460, 14.504824...|\n",
            "|            2|[{1808, 7.1139107...|\n",
            "|            3|[{3345, 9.5855255...|\n",
            "|            4|[{7847, 5.9461546...|\n",
            "|            5|[{3345, 8.19309},...|\n",
            "|            6|[{11940, 35.23830...|\n",
            "|            7|[{4460, 14.913336...|\n",
            "|            8|[{461, 11.323953}...|\n",
            "|            9|[{9498, 8.91315},...|\n",
            "|           10|[{84, 15.409278},...|\n",
            "|           11|[{7847, 11.740087...|\n",
            "|           12|[{11940, 19.40975...|\n",
            "|           13|[{7847, 7.0682983...|\n",
            "|           14|[{4460, 30.73787}...|\n",
            "|           15|[{4460, 25.294}, ...|\n",
            "|           16|[{11940, 18.11632...|\n",
            "|           17|[{16968, 9.095592...|\n",
            "|           18|[{11940, 9.351403...|\n",
            "|           19|[{11940, 43.04874...|\n",
            "+-------------+--------------------+\n",
            "only showing top 20 rows\n",
            "\n"
          ]
        }
      ]
    },
    {
      "cell_type": "code",
      "metadata": {
        "id": "stUaAoKpTgqT",
        "colab": {
          "base_uri": "https://localhost:8080/"
        },
        "outputId": "6a20a51d-36a7-4424-d264-ddd693e80ec3"
      },
      "source": [
        "recs.take(1)"
      ],
      "execution_count": null,
      "outputs": [
        {
          "output_type": "execute_result",
          "data": {
            "text/plain": [
              "[Row(user_id_index=0, recommendations=[Row(track_index=4460, rating=17.55068016052246), Row(track_index=1694, rating=14.235849380493164), Row(track_index=120, rating=11.060724258422852), Row(track_index=11940, rating=9.11754322052002), Row(track_index=180, rating=8.364152908325195), Row(track_index=4461, rating=8.100314140319824), Row(track_index=1439, rating=7.11166524887085), Row(track_index=10815, rating=6.750261306762695), Row(track_index=524, rating=6.750261306762695), Row(track_index=14378, rating=5.52789306640625)])]"
            ]
          },
          "metadata": {},
          "execution_count": 47
        }
      ]
    }
  ]
}