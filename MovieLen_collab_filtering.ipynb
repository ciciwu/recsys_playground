{
  "nbformat": 4,
  "nbformat_minor": 0,
  "metadata": {
    "colab": {
      "provenance": [],
      "mount_file_id": "1B0gRTGr_uGTd4EeDacKajNBCkI9JqYwQ",
      "authorship_tag": "ABX9TyNF3MshcFpkKi7WmKb/aFgi",
      "include_colab_link": true
    },
    "kernelspec": {
      "name": "python3",
      "display_name": "Python 3"
    },
    "language_info": {
      "name": "python"
    }
  },
  "cells": [
    {
      "cell_type": "markdown",
      "metadata": {
        "id": "view-in-github",
        "colab_type": "text"
      },
      "source": [
        "<a href=\"https://colab.research.google.com/github/ciciwu/recsys_playground/blob/main/MovieLen_collab_filtering.ipynb\" target=\"_parent\"><img src=\"https://colab.research.google.com/assets/colab-badge.svg\" alt=\"Open In Colab\"/></a>"
      ]
    },
    {
      "cell_type": "code",
      "execution_count": 1,
      "metadata": {
        "id": "rTvfcg2HBIIn"
      },
      "outputs": [],
      "source": [
        "import pandas as pd\n",
        "data = pd.read_csv('movie_len/ratings.csv')"
      ]
    },
    {
      "cell_type": "code",
      "source": [
        "data.head()"
      ],
      "metadata": {
        "colab": {
          "base_uri": "https://localhost:8080/",
          "height": 206
        },
        "id": "j60oYe93CHT-",
        "outputId": "b7d87df2-aa30-41c6-fb51-822d67e23254"
      },
      "execution_count": 2,
      "outputs": [
        {
          "output_type": "execute_result",
          "data": {
            "text/plain": [
              "   userId  movieId  rating  timestamp\n",
              "0       1        1     4.0  964982703\n",
              "1       1        3     4.0  964981247\n",
              "2       1        6     4.0  964982224\n",
              "3       1       47     5.0  964983815\n",
              "4       1       50     5.0  964982931"
            ],
            "text/html": [
              "\n",
              "  <div id=\"df-eea6b29d-3d92-4564-afbb-eb7a1b92deb8\" class=\"colab-df-container\">\n",
              "    <div>\n",
              "<style scoped>\n",
              "    .dataframe tbody tr th:only-of-type {\n",
              "        vertical-align: middle;\n",
              "    }\n",
              "\n",
              "    .dataframe tbody tr th {\n",
              "        vertical-align: top;\n",
              "    }\n",
              "\n",
              "    .dataframe thead th {\n",
              "        text-align: right;\n",
              "    }\n",
              "</style>\n",
              "<table border=\"1\" class=\"dataframe\">\n",
              "  <thead>\n",
              "    <tr style=\"text-align: right;\">\n",
              "      <th></th>\n",
              "      <th>userId</th>\n",
              "      <th>movieId</th>\n",
              "      <th>rating</th>\n",
              "      <th>timestamp</th>\n",
              "    </tr>\n",
              "  </thead>\n",
              "  <tbody>\n",
              "    <tr>\n",
              "      <th>0</th>\n",
              "      <td>1</td>\n",
              "      <td>1</td>\n",
              "      <td>4.0</td>\n",
              "      <td>964982703</td>\n",
              "    </tr>\n",
              "    <tr>\n",
              "      <th>1</th>\n",
              "      <td>1</td>\n",
              "      <td>3</td>\n",
              "      <td>4.0</td>\n",
              "      <td>964981247</td>\n",
              "    </tr>\n",
              "    <tr>\n",
              "      <th>2</th>\n",
              "      <td>1</td>\n",
              "      <td>6</td>\n",
              "      <td>4.0</td>\n",
              "      <td>964982224</td>\n",
              "    </tr>\n",
              "    <tr>\n",
              "      <th>3</th>\n",
              "      <td>1</td>\n",
              "      <td>47</td>\n",
              "      <td>5.0</td>\n",
              "      <td>964983815</td>\n",
              "    </tr>\n",
              "    <tr>\n",
              "      <th>4</th>\n",
              "      <td>1</td>\n",
              "      <td>50</td>\n",
              "      <td>5.0</td>\n",
              "      <td>964982931</td>\n",
              "    </tr>\n",
              "  </tbody>\n",
              "</table>\n",
              "</div>\n",
              "    <div class=\"colab-df-buttons\">\n",
              "\n",
              "  <div class=\"colab-df-container\">\n",
              "    <button class=\"colab-df-convert\" onclick=\"convertToInteractive('df-eea6b29d-3d92-4564-afbb-eb7a1b92deb8')\"\n",
              "            title=\"Convert this dataframe to an interactive table.\"\n",
              "            style=\"display:none;\">\n",
              "\n",
              "  <svg xmlns=\"http://www.w3.org/2000/svg\" height=\"24px\" viewBox=\"0 -960 960 960\">\n",
              "    <path d=\"M120-120v-720h720v720H120Zm60-500h600v-160H180v160Zm220 220h160v-160H400v160Zm0 220h160v-160H400v160ZM180-400h160v-160H180v160Zm440 0h160v-160H620v160ZM180-180h160v-160H180v160Zm440 0h160v-160H620v160Z\"/>\n",
              "  </svg>\n",
              "    </button>\n",
              "\n",
              "  <style>\n",
              "    .colab-df-container {\n",
              "      display:flex;\n",
              "      gap: 12px;\n",
              "    }\n",
              "\n",
              "    .colab-df-convert {\n",
              "      background-color: #E8F0FE;\n",
              "      border: none;\n",
              "      border-radius: 50%;\n",
              "      cursor: pointer;\n",
              "      display: none;\n",
              "      fill: #1967D2;\n",
              "      height: 32px;\n",
              "      padding: 0 0 0 0;\n",
              "      width: 32px;\n",
              "    }\n",
              "\n",
              "    .colab-df-convert:hover {\n",
              "      background-color: #E2EBFA;\n",
              "      box-shadow: 0px 1px 2px rgba(60, 64, 67, 0.3), 0px 1px 3px 1px rgba(60, 64, 67, 0.15);\n",
              "      fill: #174EA6;\n",
              "    }\n",
              "\n",
              "    .colab-df-buttons div {\n",
              "      margin-bottom: 4px;\n",
              "    }\n",
              "\n",
              "    [theme=dark] .colab-df-convert {\n",
              "      background-color: #3B4455;\n",
              "      fill: #D2E3FC;\n",
              "    }\n",
              "\n",
              "    [theme=dark] .colab-df-convert:hover {\n",
              "      background-color: #434B5C;\n",
              "      box-shadow: 0px 1px 3px 1px rgba(0, 0, 0, 0.15);\n",
              "      filter: drop-shadow(0px 1px 2px rgba(0, 0, 0, 0.3));\n",
              "      fill: #FFFFFF;\n",
              "    }\n",
              "  </style>\n",
              "\n",
              "    <script>\n",
              "      const buttonEl =\n",
              "        document.querySelector('#df-eea6b29d-3d92-4564-afbb-eb7a1b92deb8 button.colab-df-convert');\n",
              "      buttonEl.style.display =\n",
              "        google.colab.kernel.accessAllowed ? 'block' : 'none';\n",
              "\n",
              "      async function convertToInteractive(key) {\n",
              "        const element = document.querySelector('#df-eea6b29d-3d92-4564-afbb-eb7a1b92deb8');\n",
              "        const dataTable =\n",
              "          await google.colab.kernel.invokeFunction('convertToInteractive',\n",
              "                                                    [key], {});\n",
              "        if (!dataTable) return;\n",
              "\n",
              "        const docLinkHtml = 'Like what you see? Visit the ' +\n",
              "          '<a target=\"_blank\" href=https://colab.research.google.com/notebooks/data_table.ipynb>data table notebook</a>'\n",
              "          + ' to learn more about interactive tables.';\n",
              "        element.innerHTML = '';\n",
              "        dataTable['output_type'] = 'display_data';\n",
              "        await google.colab.output.renderOutput(dataTable, element);\n",
              "        const docLink = document.createElement('div');\n",
              "        docLink.innerHTML = docLinkHtml;\n",
              "        element.appendChild(docLink);\n",
              "      }\n",
              "    </script>\n",
              "  </div>\n",
              "\n",
              "\n",
              "<div id=\"df-cf0795e7-14b8-4679-83dd-905dbcd35297\">\n",
              "  <button class=\"colab-df-quickchart\" onclick=\"quickchart('df-cf0795e7-14b8-4679-83dd-905dbcd35297')\"\n",
              "            title=\"Suggest charts.\"\n",
              "            style=\"display:none;\">\n",
              "\n",
              "<svg xmlns=\"http://www.w3.org/2000/svg\" height=\"24px\"viewBox=\"0 0 24 24\"\n",
              "     width=\"24px\">\n",
              "    <g>\n",
              "        <path d=\"M19 3H5c-1.1 0-2 .9-2 2v14c0 1.1.9 2 2 2h14c1.1 0 2-.9 2-2V5c0-1.1-.9-2-2-2zM9 17H7v-7h2v7zm4 0h-2V7h2v10zm4 0h-2v-4h2v4z\"/>\n",
              "    </g>\n",
              "</svg>\n",
              "  </button>\n",
              "\n",
              "<style>\n",
              "  .colab-df-quickchart {\n",
              "      --bg-color: #E8F0FE;\n",
              "      --fill-color: #1967D2;\n",
              "      --hover-bg-color: #E2EBFA;\n",
              "      --hover-fill-color: #174EA6;\n",
              "      --disabled-fill-color: #AAA;\n",
              "      --disabled-bg-color: #DDD;\n",
              "  }\n",
              "\n",
              "  [theme=dark] .colab-df-quickchart {\n",
              "      --bg-color: #3B4455;\n",
              "      --fill-color: #D2E3FC;\n",
              "      --hover-bg-color: #434B5C;\n",
              "      --hover-fill-color: #FFFFFF;\n",
              "      --disabled-bg-color: #3B4455;\n",
              "      --disabled-fill-color: #666;\n",
              "  }\n",
              "\n",
              "  .colab-df-quickchart {\n",
              "    background-color: var(--bg-color);\n",
              "    border: none;\n",
              "    border-radius: 50%;\n",
              "    cursor: pointer;\n",
              "    display: none;\n",
              "    fill: var(--fill-color);\n",
              "    height: 32px;\n",
              "    padding: 0;\n",
              "    width: 32px;\n",
              "  }\n",
              "\n",
              "  .colab-df-quickchart:hover {\n",
              "    background-color: var(--hover-bg-color);\n",
              "    box-shadow: 0 1px 2px rgba(60, 64, 67, 0.3), 0 1px 3px 1px rgba(60, 64, 67, 0.15);\n",
              "    fill: var(--button-hover-fill-color);\n",
              "  }\n",
              "\n",
              "  .colab-df-quickchart-complete:disabled,\n",
              "  .colab-df-quickchart-complete:disabled:hover {\n",
              "    background-color: var(--disabled-bg-color);\n",
              "    fill: var(--disabled-fill-color);\n",
              "    box-shadow: none;\n",
              "  }\n",
              "\n",
              "  .colab-df-spinner {\n",
              "    border: 2px solid var(--fill-color);\n",
              "    border-color: transparent;\n",
              "    border-bottom-color: var(--fill-color);\n",
              "    animation:\n",
              "      spin 1s steps(1) infinite;\n",
              "  }\n",
              "\n",
              "  @keyframes spin {\n",
              "    0% {\n",
              "      border-color: transparent;\n",
              "      border-bottom-color: var(--fill-color);\n",
              "      border-left-color: var(--fill-color);\n",
              "    }\n",
              "    20% {\n",
              "      border-color: transparent;\n",
              "      border-left-color: var(--fill-color);\n",
              "      border-top-color: var(--fill-color);\n",
              "    }\n",
              "    30% {\n",
              "      border-color: transparent;\n",
              "      border-left-color: var(--fill-color);\n",
              "      border-top-color: var(--fill-color);\n",
              "      border-right-color: var(--fill-color);\n",
              "    }\n",
              "    40% {\n",
              "      border-color: transparent;\n",
              "      border-right-color: var(--fill-color);\n",
              "      border-top-color: var(--fill-color);\n",
              "    }\n",
              "    60% {\n",
              "      border-color: transparent;\n",
              "      border-right-color: var(--fill-color);\n",
              "    }\n",
              "    80% {\n",
              "      border-color: transparent;\n",
              "      border-right-color: var(--fill-color);\n",
              "      border-bottom-color: var(--fill-color);\n",
              "    }\n",
              "    90% {\n",
              "      border-color: transparent;\n",
              "      border-bottom-color: var(--fill-color);\n",
              "    }\n",
              "  }\n",
              "</style>\n",
              "\n",
              "  <script>\n",
              "    async function quickchart(key) {\n",
              "      const quickchartButtonEl =\n",
              "        document.querySelector('#' + key + ' button');\n",
              "      quickchartButtonEl.disabled = true;  // To prevent multiple clicks.\n",
              "      quickchartButtonEl.classList.add('colab-df-spinner');\n",
              "      try {\n",
              "        const charts = await google.colab.kernel.invokeFunction(\n",
              "            'suggestCharts', [key], {});\n",
              "      } catch (error) {\n",
              "        console.error('Error during call to suggestCharts:', error);\n",
              "      }\n",
              "      quickchartButtonEl.classList.remove('colab-df-spinner');\n",
              "      quickchartButtonEl.classList.add('colab-df-quickchart-complete');\n",
              "    }\n",
              "    (() => {\n",
              "      let quickchartButtonEl =\n",
              "        document.querySelector('#df-cf0795e7-14b8-4679-83dd-905dbcd35297 button');\n",
              "      quickchartButtonEl.style.display =\n",
              "        google.colab.kernel.accessAllowed ? 'block' : 'none';\n",
              "    })();\n",
              "  </script>\n",
              "</div>\n",
              "    </div>\n",
              "  </div>\n"
            ]
          },
          "metadata": {},
          "execution_count": 2
        }
      ]
    },
    {
      "cell_type": "code",
      "source": [
        "num_users = data.userId.nunique()"
      ],
      "metadata": {
        "id": "dpzqzI20CJBh"
      },
      "execution_count": 7,
      "outputs": []
    },
    {
      "cell_type": "code",
      "source": [
        "num_items = data.movieId.nunique()"
      ],
      "metadata": {
        "id": "HDtLrMOICOBN"
      },
      "execution_count": 6,
      "outputs": []
    },
    {
      "cell_type": "markdown",
      "source": [
        "## Map the id to smaller ids,save spaces"
      ],
      "metadata": {
        "id": "BTsTFx_rD9J_"
      }
    },
    {
      "cell_type": "code",
      "source": [
        "userId2idx = {}\n",
        "for idx, id in enumerate(data.userId.unique()):\n",
        "  userId2idx[id] = idx"
      ],
      "metadata": {
        "id": "4Majrkp3CQTD"
      },
      "execution_count": 53,
      "outputs": []
    },
    {
      "cell_type": "code",
      "source": [
        "itemId2idx = {}\n",
        "for idx, id in enumerate(data.movieId.unique()):\n",
        "  itemId2idx[id] = idx"
      ],
      "metadata": {
        "id": "F1SVUAEHEqmj"
      },
      "execution_count": 54,
      "outputs": []
    },
    {
      "cell_type": "code",
      "source": [
        "num_users"
      ],
      "metadata": {
        "colab": {
          "base_uri": "https://localhost:8080/"
        },
        "id": "loKz1NKwFBpo",
        "outputId": "7d8d4832-fadf-48b9-be76-ecca58f84fcb"
      },
      "execution_count": 52,
      "outputs": [
        {
          "output_type": "execute_result",
          "data": {
            "text/plain": [
              "610"
            ]
          },
          "metadata": {},
          "execution_count": 52
        }
      ]
    },
    {
      "cell_type": "markdown",
      "source": [
        "## Define the model"
      ],
      "metadata": {
        "id": "qM6_frJXFEwp"
      }
    },
    {
      "cell_type": "code",
      "source": [
        "import torch.nn as nn\n",
        "from torch.optim import SGD\n",
        "from torch.nn import MSELoss\n"
      ],
      "metadata": {
        "id": "vwCjokNvFHzb"
      },
      "execution_count": 30,
      "outputs": []
    },
    {
      "cell_type": "code",
      "source": [
        "emb_size = 10"
      ],
      "metadata": {
        "id": "zZl6wWzLGAPK"
      },
      "execution_count": 16,
      "outputs": []
    },
    {
      "cell_type": "code",
      "source": [
        "class MF(nn.Module):\n",
        "  def __init__(self, num_items,num_users,emb_size):\n",
        "    super(MF,self).__init__()\n",
        "    self.user_emb = nn.Embedding(num_users, emb_size)\n",
        "    self.item_emb = nn.Embedding(num_items, emb_size)\n",
        "    self.user_emb.weight.data.uniform_(0, 1)\n",
        "    self.item_emb.weight.data.uniform_(0, 1)\n",
        "\n",
        "  def forward(self,userIds, itemIds):\n",
        "    user_emb = self.user_emb(userIds)\n",
        "    item_emb = self.item_emb(itemIds)\n",
        "    # dot_p = user_emb*item_emb\n",
        "    # res = dot_p.sum(axis = 1)\n",
        "    return (user_emb*item_emb).sum(axis = 1)\n"
      ],
      "metadata": {
        "id": "UpzaFMzTFFMB"
      },
      "execution_count": 143,
      "outputs": []
    },
    {
      "cell_type": "code",
      "source": [
        "userId = data.userId.apply(lambda x: userId2idx[x])"
      ],
      "metadata": {
        "id": "pkGMQF42GWEG"
      },
      "execution_count": 56,
      "outputs": []
    },
    {
      "cell_type": "code",
      "source": [
        "itemId.shape"
      ],
      "metadata": {
        "colab": {
          "base_uri": "https://localhost:8080/"
        },
        "id": "T1C_CEOiK--V",
        "outputId": "79d1a24f-a76a-4509-f38b-9f5892dd0b05"
      },
      "execution_count": 69,
      "outputs": [
        {
          "output_type": "execute_result",
          "data": {
            "text/plain": [
              "(100836,)"
            ]
          },
          "metadata": {},
          "execution_count": 69
        }
      ]
    },
    {
      "cell_type": "code",
      "source": [
        "itemId = data.movieId.apply(lambda x: itemId2idx[x])"
      ],
      "metadata": {
        "id": "Dc3Xzma-GyNj"
      },
      "execution_count": 57,
      "outputs": []
    },
    {
      "cell_type": "code",
      "source": [
        "nn.embed()"
      ],
      "metadata": {
        "id": "rEh3cJr8HTFn"
      },
      "execution_count": null,
      "outputs": []
    },
    {
      "cell_type": "markdown",
      "source": [
        "## Define optimizer, loss\n"
      ],
      "metadata": {
        "id": "I6IRAJnoHTuQ"
      }
    },
    {
      "cell_type": "code",
      "source": [
        "lr = 0.1"
      ],
      "metadata": {
        "id": "TCEx9n8JHauJ"
      },
      "execution_count": 32,
      "outputs": []
    },
    {
      "cell_type": "code",
      "source": [
        "mf = MF(num_items, num_users, 100)"
      ],
      "metadata": {
        "id": "qQMjkoVcIRV_"
      },
      "execution_count": 144,
      "outputs": []
    },
    {
      "cell_type": "code",
      "source": [
        "optimizer = SGD(params=mf.parameters(), lr=lr)"
      ],
      "metadata": {
        "id": "Kv9cv4NoHarP"
      },
      "execution_count": 145,
      "outputs": []
    },
    {
      "cell_type": "code",
      "source": [
        "mseloss = MSELoss()"
      ],
      "metadata": {
        "id": "RPG3JsebKmBV"
      },
      "execution_count": 65,
      "outputs": []
    },
    {
      "cell_type": "markdown",
      "source": [
        "## Training loop"
      ],
      "metadata": {
        "id": "FyV2Gg8CHbbl"
      }
    },
    {
      "cell_type": "code",
      "source": [
        "import torch"
      ],
      "metadata": {
        "id": "YTa04t0SI3Dy"
      },
      "execution_count": 45,
      "outputs": []
    },
    {
      "cell_type": "code",
      "source": [
        "ratings = torch.tensor(data.rating, dtype=torch.float32 )\n",
        "userID = torch.tensor(userId, dtype=torch.long )\n",
        "itemID = torch.tensor(itemId, dtype=torch.long )"
      ],
      "metadata": {
        "id": "Xlq1lttAIuJj"
      },
      "execution_count": 148,
      "outputs": []
    },
    {
      "cell_type": "code",
      "source": [
        "epoch = 5"
      ],
      "metadata": {
        "id": "avfwTUiGIcYp"
      },
      "execution_count": 42,
      "outputs": []
    },
    {
      "cell_type": "code",
      "source": [
        "import torch.nn.functional as F"
      ],
      "metadata": {
        "id": "K3GraSdxxpm5"
      },
      "execution_count": 135,
      "outputs": []
    },
    {
      "cell_type": "code",
      "source": [
        "data.shape"
      ],
      "metadata": {
        "colab": {
          "base_uri": "https://localhost:8080/"
        },
        "id": "VQ-Mje9x4kbE",
        "outputId": "8416f284-990d-42b6-b00c-35ee18bef189"
      },
      "execution_count": 150,
      "outputs": [
        {
          "output_type": "execute_result",
          "data": {
            "text/plain": [
              "(100836, 4)"
            ]
          },
          "metadata": {},
          "execution_count": 150
        }
      ]
    },
    {
      "cell_type": "code",
      "source": [
        "running_loss = 0.0\n",
        "for i in range(epoch):\n",
        "  pred = mf(userID,itemID)\n",
        "  loss = mseloss(pred, ratings)\n",
        "  running_loss += loss.item()\n",
        "  optimizer.zero_grad()\n",
        "  loss.register_hook(lambda grad: print(grad))\n",
        "  loss.backward()\n",
        "  print(mf.user_emb.weight.grad)\n",
        "  optimizer.step()\n",
        "\n",
        "  print(f'loss this epoch {loss.item()}')\n",
        "  print(f'epoch: {i+1}, loss: {running_loss/(i+1)}')\n",
        "\n"
      ],
      "metadata": {
        "colab": {
          "base_uri": "https://localhost:8080/"
        },
        "id": "DmRGqi9RHOjb",
        "outputId": "2ee1bf80-1619-4586-922d-bf6fbf5ea5fb"
      },
      "execution_count": 155,
      "outputs": [
        {
          "output_type": "stream",
          "name": "stdout",
          "text": [
            "tensor(385.5774)\n",
            "None\n",
            "tensor(1.)\n"
          ]
        },
        {
          "output_type": "stream",
          "name": "stderr",
          "text": [
            "<ipython-input-155-97335115eae4>:8: UserWarning: The .grad attribute of a Tensor that is not a leaf Tensor is being accessed. Its .grad attribute won't be populated during autograd.backward(). If you indeed want the .grad field to be populated for a non-leaf Tensor, use .retain_grad() on the non-leaf Tensor. If you access the non-leaf Tensor by mistake, make sure you access the leaf Tensor instead. See github.com/pytorch/pytorch/pull/30531 for more informations. (Triggered internally at aten/src/ATen/core/TensorBody.h:486.)\n",
            "  print(loss.grad)\n"
          ]
        },
        {
          "output_type": "stream",
          "name": "stdout",
          "text": [
            "tensor([[0.0468, 0.0483, 0.0475,  ..., 0.0500, 0.0491, 0.0479],\n",
            "        [0.0056, 0.0056, 0.0048,  ..., 0.0047, 0.0051, 0.0056],\n",
            "        [0.0098, 0.0079, 0.0089,  ..., 0.0100, 0.0082, 0.0080],\n",
            "        ...,\n",
            "        [0.1631, 0.1648, 0.1615,  ..., 0.1602, 0.1538, 0.1586],\n",
            "        [0.0062, 0.0079, 0.0083,  ..., 0.0084, 0.0066, 0.0076],\n",
            "        [0.2331, 0.2387, 0.2228,  ..., 0.2330, 0.2290, 0.2317]])\n",
            "loss this epoch 385.5773620605469\n",
            "epoch: 1, loss: 385.5773620605469\n",
            "tensor(383.4738)\n",
            "None\n",
            "tensor(1.)\n",
            "tensor([[0.0467, 0.0482, 0.0474,  ..., 0.0499, 0.0490, 0.0478],\n",
            "        [0.0056, 0.0056, 0.0048,  ..., 0.0047, 0.0051, 0.0056],\n",
            "        [0.0097, 0.0079, 0.0089,  ..., 0.0100, 0.0082, 0.0080],\n",
            "        ...,\n",
            "        [0.1624, 0.1641, 0.1608,  ..., 0.1595, 0.1531, 0.1579],\n",
            "        [0.0062, 0.0078, 0.0083,  ..., 0.0084, 0.0065, 0.0076],\n",
            "        [0.2316, 0.2371, 0.2213,  ..., 0.2315, 0.2274, 0.2301]])\n",
            "loss this epoch 383.4738464355469\n",
            "epoch: 2, loss: 384.5256042480469\n",
            "tensor(381.3937)\n",
            "None\n",
            "tensor(1.)\n",
            "tensor([[0.0466, 0.0482, 0.0473,  ..., 0.0498, 0.0489, 0.0477],\n",
            "        [0.0056, 0.0056, 0.0048,  ..., 0.0047, 0.0051, 0.0056],\n",
            "        [0.0097, 0.0079, 0.0089,  ..., 0.0100, 0.0082, 0.0079],\n",
            "        ...,\n",
            "        [0.1617, 0.1634, 0.1601,  ..., 0.1588, 0.1524, 0.1572],\n",
            "        [0.0062, 0.0078, 0.0083,  ..., 0.0084, 0.0065, 0.0076],\n",
            "        [0.2300, 0.2355, 0.2198,  ..., 0.2299, 0.2259, 0.2286]])\n",
            "loss this epoch 381.3936767578125\n",
            "epoch: 3, loss: 383.48162841796875\n",
            "tensor(379.3364)\n",
            "None\n",
            "tensor(1.)\n",
            "tensor([[0.0465, 0.0481, 0.0473,  ..., 0.0498, 0.0488, 0.0477],\n",
            "        [0.0056, 0.0056, 0.0048,  ..., 0.0047, 0.0051, 0.0056],\n",
            "        [0.0097, 0.0079, 0.0089,  ..., 0.0100, 0.0082, 0.0079],\n",
            "        ...,\n",
            "        [0.1609, 0.1626, 0.1594,  ..., 0.1581, 0.1517, 0.1565],\n",
            "        [0.0062, 0.0078, 0.0083,  ..., 0.0084, 0.0065, 0.0076],\n",
            "        [0.2285, 0.2340, 0.2183,  ..., 0.2284, 0.2244, 0.2271]])\n",
            "loss this epoch 379.3363952636719\n",
            "epoch: 4, loss: 382.44532012939453\n",
            "tensor(377.3017)\n",
            "None\n",
            "tensor(1.)\n",
            "tensor([[0.0464, 0.0480, 0.0472,  ..., 0.0497, 0.0487, 0.0476],\n",
            "        [0.0056, 0.0056, 0.0048,  ..., 0.0047, 0.0051, 0.0056],\n",
            "        [0.0097, 0.0079, 0.0088,  ..., 0.0100, 0.0082, 0.0079],\n",
            "        ...,\n",
            "        [0.1602, 0.1619, 0.1587,  ..., 0.1574, 0.1510, 0.1558],\n",
            "        [0.0062, 0.0078, 0.0083,  ..., 0.0084, 0.0065, 0.0076],\n",
            "        [0.2270, 0.2324, 0.2169,  ..., 0.2269, 0.2229, 0.2255]])\n",
            "loss this epoch 377.3016662597656\n",
            "epoch: 5, loss: 381.4165893554688\n"
          ]
        }
      ]
    },
    {
      "cell_type": "code",
      "source": [
        "mf.parameters"
      ],
      "metadata": {
        "colab": {
          "base_uri": "https://localhost:8080/"
        },
        "id": "Dg4YL7uxJ5HC",
        "outputId": "e426032f-1af3-4dc9-9049-2d93d413abff"
      },
      "execution_count": 156,
      "outputs": [
        {
          "output_type": "execute_result",
          "data": {
            "text/plain": [
              "<bound method Module.parameters of MF(\n",
              "  (user_emb): Embedding(610, 100)\n",
              "  (item_emb): Embedding(9724, 100)\n",
              ")>"
            ]
          },
          "metadata": {},
          "execution_count": 156
        }
      ]
    },
    {
      "cell_type": "code",
      "source": [],
      "metadata": {
        "id": "aEhnZMfqNXQd"
      },
      "execution_count": null,
      "outputs": []
    }
  ]
}